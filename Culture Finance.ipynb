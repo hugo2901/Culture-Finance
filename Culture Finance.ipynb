{
 "cells": [
  {
   "cell_type": "code",
   "execution_count": 1,
   "metadata": {
    "ExecuteTime": {
     "end_time": "2020-10-12T20:29:54.345696Z",
     "start_time": "2020-10-12T20:29:54.334702Z"
    }
   },
   "outputs": [],
   "source": [
    "import pandas as pd\n",
    "from datetime import datetime, date, timedelta\n",
    "import pytz\n",
    "import numpy as np\n",
    "import time\n",
    "%matplotlib inline\n",
    "import matplotlib.pyplot as plt\n",
    "plt.style.use('seaborn-white')\n",
    "import glob\n",
    "import statistics\n",
    "from scipy import stats\n",
    "from scipy.stats import ttest_1samp\n",
    "from scipy.stats import ttest_ind\n",
    "from statsmodels.distributions.mixture_rvs import mixture_rvs\n",
    "import statsmodels.api as sm\n",
    "\n",
    "from numpy.random import seed\n",
    "from numpy.random import randn\n",
    "from scipy.stats import mannwhitneyu\n",
    "import pickle\n",
    "from statsmodels.iolib.summary2 import summary_col\n",
    "np.set_printoptions(suppress=True)\n",
    "\n",
    "import matplotlib.colors as mcolors\n",
    "import pyreadstat\n",
    "from tabulate import tabulate\n",
    "\n",
    "#Redundant libraries\n",
    "#import pandas_market_calendars as mcal\n",
    "#from empyrical import max_drawdown, alpha_beta, sharpe_ratio, alpha, annual_volatility, annual_return, cum_returns\n"
   ]
  },
  {
   "cell_type": "code",
   "execution_count": 2,
   "metadata": {
    "ExecuteTime": {
     "end_time": "2020-10-12T17:28:32.075263Z",
     "start_time": "2020-10-12T17:28:29.045384Z"
    }
   },
   "outputs": [
    {
     "name": "stdout",
     "output_type": "stream",
     "text": [
      "Requirement already satisfied: pyreadstat in c:\\users\\laptop\\anaconda3\\envs\\cf\\lib\\site-packages (1.0.2)\n",
      "Requirement already satisfied: pandas>0.24.0 in c:\\users\\laptop\\anaconda3\\envs\\cf\\lib\\site-packages (from pyreadstat) (1.1.1)\n",
      "Requirement already satisfied: python-dateutil>=2.7.3 in c:\\users\\laptop\\anaconda3\\envs\\cf\\lib\\site-packages (from pandas>0.24.0->pyreadstat) (2.8.1)\n",
      "Requirement already satisfied: pytz>=2017.2 in c:\\users\\laptop\\anaconda3\\envs\\cf\\lib\\site-packages (from pandas>0.24.0->pyreadstat) (2020.1)\n",
      "Requirement already satisfied: numpy>=1.15.4 in c:\\users\\laptop\\anaconda3\\envs\\cf\\lib\\site-packages (from pandas>0.24.0->pyreadstat) (1.19.1)\n",
      "Requirement already satisfied: six>=1.5 in c:\\users\\laptop\\anaconda3\\envs\\cf\\lib\\site-packages (from python-dateutil>=2.7.3->pandas>0.24.0->pyreadstat) (1.15.0)\n"
     ]
    }
   ],
   "source": [
    "#probably first need to install pyreadstat via pip: pip install pyreadstat\n",
    "import sys\n",
    "!{sys.executable} -m pip install pyreadstat"
   ]
  },
  {
   "cell_type": "markdown",
   "metadata": {},
   "source": [
    "# Read Data"
   ]
  },
  {
   "cell_type": "code",
   "execution_count": 4,
   "metadata": {
    "ExecuteTime": {
     "end_time": "2020-10-12T17:29:05.665443Z",
     "start_time": "2020-10-12T17:29:04.770395Z"
    }
   },
   "outputs": [
    {
     "data": {
      "text/html": [
       "<div>\n",
       "<style scoped>\n",
       "    .dataframe tbody tr th:only-of-type {\n",
       "        vertical-align: middle;\n",
       "    }\n",
       "\n",
       "    .dataframe tbody tr th {\n",
       "        vertical-align: top;\n",
       "    }\n",
       "\n",
       "    .dataframe thead th {\n",
       "        text-align: right;\n",
       "    }\n",
       "</style>\n",
       "<table border=\"1\" class=\"dataframe\">\n",
       "  <thead>\n",
       "    <tr style=\"text-align: right;\">\n",
       "      <th></th>\n",
       "      <th>lfdn</th>\n",
       "      <th>lastpage</th>\n",
       "      <th>quality</th>\n",
       "      <th>duration</th>\n",
       "      <th>country</th>\n",
       "      <th>country_code</th>\n",
       "      <th>eu_country</th>\n",
       "      <th>Estonia_D</th>\n",
       "      <th>Taiwan_D</th>\n",
       "      <th>China_D</th>\n",
       "      <th>...</th>\n",
       "      <th>bta_sub</th>\n",
       "      <th>bta</th>\n",
       "      <th>bta_real1a</th>\n",
       "      <th>bta_real1b</th>\n",
       "      <th>bta_real1</th>\n",
       "      <th>bta_real2a</th>\n",
       "      <th>tor</th>\n",
       "      <th>toe</th>\n",
       "      <th>bta_real2b</th>\n",
       "      <th>bta_real2</th>\n",
       "    </tr>\n",
       "  </thead>\n",
       "  <tbody>\n",
       "    <tr>\n",
       "      <th>0</th>\n",
       "      <td>520.0</td>\n",
       "      <td>5931865.0</td>\n",
       "      <td>NaN</td>\n",
       "      <td>35.0</td>\n",
       "      <td>Taiwan</td>\n",
       "      <td>3.0</td>\n",
       "      <td>0.0</td>\n",
       "      <td>0.0</td>\n",
       "      <td>1.0</td>\n",
       "      <td>0.0</td>\n",
       "      <td>...</td>\n",
       "      <td>NaN</td>\n",
       "      <td>NaN</td>\n",
       "      <td>NaN</td>\n",
       "      <td>NaN</td>\n",
       "      <td>NaN</td>\n",
       "      <td>NaN</td>\n",
       "      <td>NaN</td>\n",
       "      <td>NaN</td>\n",
       "      <td>NaN</td>\n",
       "      <td>NaN</td>\n",
       "    </tr>\n",
       "    <tr>\n",
       "      <th>1</th>\n",
       "      <td>301.0</td>\n",
       "      <td>5931889.0</td>\n",
       "      <td>NaN</td>\n",
       "      <td>3179.0</td>\n",
       "      <td>Taiwan</td>\n",
       "      <td>3.0</td>\n",
       "      <td>0.0</td>\n",
       "      <td>0.0</td>\n",
       "      <td>1.0</td>\n",
       "      <td>0.0</td>\n",
       "      <td>...</td>\n",
       "      <td>0.32</td>\n",
       "      <td>0.1</td>\n",
       "      <td>0.0</td>\n",
       "      <td>0.32</td>\n",
       "      <td>0.0</td>\n",
       "      <td>-0.24</td>\n",
       "      <td>0.715911</td>\n",
       "      <td>0.55811</td>\n",
       "      <td>0.157801</td>\n",
       "      <td>-0.082199</td>\n",
       "    </tr>\n",
       "    <tr>\n",
       "      <th>2</th>\n",
       "      <td>468.0</td>\n",
       "      <td>5931889.0</td>\n",
       "      <td>NaN</td>\n",
       "      <td>1973.0</td>\n",
       "      <td>Taiwan</td>\n",
       "      <td>3.0</td>\n",
       "      <td>0.0</td>\n",
       "      <td>0.0</td>\n",
       "      <td>1.0</td>\n",
       "      <td>0.0</td>\n",
       "      <td>...</td>\n",
       "      <td>NaN</td>\n",
       "      <td>NaN</td>\n",
       "      <td>NaN</td>\n",
       "      <td>NaN</td>\n",
       "      <td>NaN</td>\n",
       "      <td>NaN</td>\n",
       "      <td>NaN</td>\n",
       "      <td>NaN</td>\n",
       "      <td>NaN</td>\n",
       "      <td>NaN</td>\n",
       "    </tr>\n",
       "    <tr>\n",
       "      <th>3</th>\n",
       "      <td>937.0</td>\n",
       "      <td>5934355.0</td>\n",
       "      <td>NaN</td>\n",
       "      <td>1373.0</td>\n",
       "      <td>Taiwan</td>\n",
       "      <td>3.0</td>\n",
       "      <td>0.0</td>\n",
       "      <td>0.0</td>\n",
       "      <td>1.0</td>\n",
       "      <td>0.0</td>\n",
       "      <td>...</td>\n",
       "      <td>NaN</td>\n",
       "      <td>NaN</td>\n",
       "      <td>NaN</td>\n",
       "      <td>NaN</td>\n",
       "      <td>NaN</td>\n",
       "      <td>NaN</td>\n",
       "      <td>NaN</td>\n",
       "      <td>NaN</td>\n",
       "      <td>NaN</td>\n",
       "      <td>NaN</td>\n",
       "    </tr>\n",
       "    <tr>\n",
       "      <th>4</th>\n",
       "      <td>430.0</td>\n",
       "      <td>5931865.0</td>\n",
       "      <td>NaN</td>\n",
       "      <td>51.0</td>\n",
       "      <td>Taiwan</td>\n",
       "      <td>3.0</td>\n",
       "      <td>0.0</td>\n",
       "      <td>0.0</td>\n",
       "      <td>1.0</td>\n",
       "      <td>0.0</td>\n",
       "      <td>...</td>\n",
       "      <td>NaN</td>\n",
       "      <td>NaN</td>\n",
       "      <td>NaN</td>\n",
       "      <td>NaN</td>\n",
       "      <td>NaN</td>\n",
       "      <td>NaN</td>\n",
       "      <td>NaN</td>\n",
       "      <td>NaN</td>\n",
       "      <td>NaN</td>\n",
       "      <td>NaN</td>\n",
       "    </tr>\n",
       "    <tr>\n",
       "      <th>...</th>\n",
       "      <td>...</td>\n",
       "      <td>...</td>\n",
       "      <td>...</td>\n",
       "      <td>...</td>\n",
       "      <td>...</td>\n",
       "      <td>...</td>\n",
       "      <td>...</td>\n",
       "      <td>...</td>\n",
       "      <td>...</td>\n",
       "      <td>...</td>\n",
       "      <td>...</td>\n",
       "      <td>...</td>\n",
       "      <td>...</td>\n",
       "      <td>...</td>\n",
       "      <td>...</td>\n",
       "      <td>...</td>\n",
       "      <td>...</td>\n",
       "      <td>...</td>\n",
       "      <td>...</td>\n",
       "      <td>...</td>\n",
       "      <td>...</td>\n",
       "    </tr>\n",
       "    <tr>\n",
       "      <th>3643</th>\n",
       "      <td>589.0</td>\n",
       "      <td>5931867.0</td>\n",
       "      <td>NaN</td>\n",
       "      <td>27.0</td>\n",
       "      <td>Vitnam</td>\n",
       "      <td>5.0</td>\n",
       "      <td>0.0</td>\n",
       "      <td>0.0</td>\n",
       "      <td>0.0</td>\n",
       "      <td>0.0</td>\n",
       "      <td>...</td>\n",
       "      <td>NaN</td>\n",
       "      <td>NaN</td>\n",
       "      <td>NaN</td>\n",
       "      <td>NaN</td>\n",
       "      <td>NaN</td>\n",
       "      <td>NaN</td>\n",
       "      <td>NaN</td>\n",
       "      <td>NaN</td>\n",
       "      <td>NaN</td>\n",
       "      <td>NaN</td>\n",
       "    </tr>\n",
       "    <tr>\n",
       "      <th>3644</th>\n",
       "      <td>3413.0</td>\n",
       "      <td>5931889.0</td>\n",
       "      <td>NaN</td>\n",
       "      <td>2995.0</td>\n",
       "      <td>Vitnam</td>\n",
       "      <td>5.0</td>\n",
       "      <td>0.0</td>\n",
       "      <td>0.0</td>\n",
       "      <td>0.0</td>\n",
       "      <td>0.0</td>\n",
       "      <td>...</td>\n",
       "      <td>NaN</td>\n",
       "      <td>NaN</td>\n",
       "      <td>NaN</td>\n",
       "      <td>NaN</td>\n",
       "      <td>NaN</td>\n",
       "      <td>NaN</td>\n",
       "      <td>NaN</td>\n",
       "      <td>NaN</td>\n",
       "      <td>NaN</td>\n",
       "      <td>NaN</td>\n",
       "    </tr>\n",
       "    <tr>\n",
       "      <th>3645</th>\n",
       "      <td>2027.0</td>\n",
       "      <td>5931889.0</td>\n",
       "      <td>NaN</td>\n",
       "      <td>3142.0</td>\n",
       "      <td>Vitnam</td>\n",
       "      <td>5.0</td>\n",
       "      <td>0.0</td>\n",
       "      <td>0.0</td>\n",
       "      <td>0.0</td>\n",
       "      <td>0.0</td>\n",
       "      <td>...</td>\n",
       "      <td>NaN</td>\n",
       "      <td>NaN</td>\n",
       "      <td>NaN</td>\n",
       "      <td>NaN</td>\n",
       "      <td>NaN</td>\n",
       "      <td>NaN</td>\n",
       "      <td>NaN</td>\n",
       "      <td>NaN</td>\n",
       "      <td>NaN</td>\n",
       "      <td>NaN</td>\n",
       "    </tr>\n",
       "    <tr>\n",
       "      <th>3646</th>\n",
       "      <td>2483.0</td>\n",
       "      <td>5934355.0</td>\n",
       "      <td>NaN</td>\n",
       "      <td>2603.0</td>\n",
       "      <td>Vitnam</td>\n",
       "      <td>5.0</td>\n",
       "      <td>0.0</td>\n",
       "      <td>0.0</td>\n",
       "      <td>0.0</td>\n",
       "      <td>0.0</td>\n",
       "      <td>...</td>\n",
       "      <td>NaN</td>\n",
       "      <td>NaN</td>\n",
       "      <td>NaN</td>\n",
       "      <td>NaN</td>\n",
       "      <td>NaN</td>\n",
       "      <td>NaN</td>\n",
       "      <td>NaN</td>\n",
       "      <td>NaN</td>\n",
       "      <td>NaN</td>\n",
       "      <td>NaN</td>\n",
       "    </tr>\n",
       "    <tr>\n",
       "      <th>3647</th>\n",
       "      <td>390.0</td>\n",
       "      <td>5931870.0</td>\n",
       "      <td>NaN</td>\n",
       "      <td>555.0</td>\n",
       "      <td>Vitnam</td>\n",
       "      <td>5.0</td>\n",
       "      <td>0.0</td>\n",
       "      <td>0.0</td>\n",
       "      <td>0.0</td>\n",
       "      <td>0.0</td>\n",
       "      <td>...</td>\n",
       "      <td>NaN</td>\n",
       "      <td>NaN</td>\n",
       "      <td>NaN</td>\n",
       "      <td>NaN</td>\n",
       "      <td>NaN</td>\n",
       "      <td>NaN</td>\n",
       "      <td>NaN</td>\n",
       "      <td>NaN</td>\n",
       "      <td>NaN</td>\n",
       "      <td>NaN</td>\n",
       "    </tr>\n",
       "  </tbody>\n",
       "</table>\n",
       "<p>3648 rows × 708 columns</p>\n",
       "</div>"
      ],
      "text/plain": [
       "        lfdn   lastpage  quality  duration country  country_code  eu_country  \\\n",
       "0      520.0  5931865.0      NaN      35.0  Taiwan           3.0         0.0   \n",
       "1      301.0  5931889.0      NaN    3179.0  Taiwan           3.0         0.0   \n",
       "2      468.0  5931889.0      NaN    1973.0  Taiwan           3.0         0.0   \n",
       "3      937.0  5934355.0      NaN    1373.0  Taiwan           3.0         0.0   \n",
       "4      430.0  5931865.0      NaN      51.0  Taiwan           3.0         0.0   \n",
       "...      ...        ...      ...       ...     ...           ...         ...   \n",
       "3643   589.0  5931867.0      NaN      27.0  Vitnam           5.0         0.0   \n",
       "3644  3413.0  5931889.0      NaN    2995.0  Vitnam           5.0         0.0   \n",
       "3645  2027.0  5931889.0      NaN    3142.0  Vitnam           5.0         0.0   \n",
       "3646  2483.0  5934355.0      NaN    2603.0  Vitnam           5.0         0.0   \n",
       "3647   390.0  5931870.0      NaN     555.0  Vitnam           5.0         0.0   \n",
       "\n",
       "      Estonia_D  Taiwan_D  China_D  ...  bta_sub  bta  bta_real1a  bta_real1b  \\\n",
       "0           0.0       1.0      0.0  ...      NaN  NaN         NaN         NaN   \n",
       "1           0.0       1.0      0.0  ...     0.32  0.1         0.0        0.32   \n",
       "2           0.0       1.0      0.0  ...      NaN  NaN         NaN         NaN   \n",
       "3           0.0       1.0      0.0  ...      NaN  NaN         NaN         NaN   \n",
       "4           0.0       1.0      0.0  ...      NaN  NaN         NaN         NaN   \n",
       "...         ...       ...      ...  ...      ...  ...         ...         ...   \n",
       "3643        0.0       0.0      0.0  ...      NaN  NaN         NaN         NaN   \n",
       "3644        0.0       0.0      0.0  ...      NaN  NaN         NaN         NaN   \n",
       "3645        0.0       0.0      0.0  ...      NaN  NaN         NaN         NaN   \n",
       "3646        0.0       0.0      0.0  ...      NaN  NaN         NaN         NaN   \n",
       "3647        0.0       0.0      0.0  ...      NaN  NaN         NaN         NaN   \n",
       "\n",
       "      bta_real1  bta_real2a       tor      toe bta_real2b  bta_real2  \n",
       "0           NaN         NaN       NaN      NaN        NaN        NaN  \n",
       "1           0.0       -0.24  0.715911  0.55811   0.157801  -0.082199  \n",
       "2           NaN         NaN       NaN      NaN        NaN        NaN  \n",
       "3           NaN         NaN       NaN      NaN        NaN        NaN  \n",
       "4           NaN         NaN       NaN      NaN        NaN        NaN  \n",
       "...         ...         ...       ...      ...        ...        ...  \n",
       "3643        NaN         NaN       NaN      NaN        NaN        NaN  \n",
       "3644        NaN         NaN       NaN      NaN        NaN        NaN  \n",
       "3645        NaN         NaN       NaN      NaN        NaN        NaN  \n",
       "3646        NaN         NaN       NaN      NaN        NaN        NaN  \n",
       "3647        NaN         NaN       NaN      NaN        NaN        NaN  \n",
       "\n",
       "[3648 rows x 708 columns]"
      ]
     },
     "execution_count": 4,
     "metadata": {},
     "output_type": "execute_result"
    }
   ],
   "source": [
    "df = pd.read_spss('data.sav')\n",
    "df"
   ]
  },
  {
   "cell_type": "code",
   "execution_count": 5,
   "metadata": {
    "ExecuteTime": {
     "end_time": "2020-10-12T17:29:29.120558Z",
     "start_time": "2020-10-12T17:29:29.075464Z"
    },
    "scrolled": true
   },
   "outputs": [
    {
     "name": "stdout",
     "output_type": "stream",
     "text": [
      "lfdn\n",
      "lastpage\n",
      "quality\n",
      "duration\n",
      "country\n",
      "country_code\n",
      "eu_country\n",
      "Estonia_D\n",
      "Taiwan_D\n",
      "China_D\n",
      "Vietnam_D\n",
      "Germany_D\n",
      "Japan_D\n",
      "age\n",
      "gender\n",
      "female\n",
      "transgender\n",
      "job\n",
      "hdegree\n",
      "uni_degree\n",
      "bachelor\n",
      "master\n",
      "XD41\n",
      "major\n",
      "major_classification\n",
      "Field_of_graduation\n",
      "FOG_classification\n",
      "schoolgrad\n",
      "grade\n",
      "unigrade\n",
      "gradeper_vietnam\n",
      "gradeper_china\n",
      "gradeper_taiwan\n",
      "gradeper_germany\n",
      "citizen\n",
      "v_603\n",
      "resident\n",
      "v_605\n",
      "XD9\n",
      "culture\n",
      "v_607\n",
      "Buddhism\n",
      "Christianity\n",
      "Confucianism\n",
      "Islam\n",
      "Taoism\n",
      "Marxism\n",
      "Other_religion\n",
      "married\n",
      "parent\n",
      "children\n",
      "v_108\n",
      "XD12\n",
      "multi_religion\n",
      "XD13\n",
      "XD14\n",
      "household\n",
      "XD15\n",
      "hincome\n",
      "eu_income\n",
      "eu_ppp_income\n",
      "USD_ppp_income\n",
      "income_eu_capita\n",
      "XGF1\n",
      "stock\n",
      "GF1b\n",
      "wstock\n",
      "GF1c\n",
      "GF1d\n",
      "GF1e\n",
      "GF1f\n",
      "GF1g\n",
      "GF1h\n",
      "herding\n",
      "stockm\n",
      "stockr\n",
      "fp_zone\n",
      "D_fp_zone\n",
      "XR1a\n",
      "rrp1\n",
      "rrp2\n",
      "rrp_gain\n",
      "rrp_gain_w\n",
      "XR1b\n",
      "XR2\n",
      "lott2\n",
      "D_lott2\n",
      "rrp_loss\n",
      "rrp_loss_w\n",
      "XR3\n",
      "theta\n",
      "theta_w\n",
      "XR4\n",
      "ambig\n",
      "XT1\n",
      "patient\n",
      "XHA1\n",
      "XHA2\n",
      "XHA3\n",
      "XHA4\n",
      "XHA5\n",
      "XHA6\n",
      "XHA7\n",
      "XHA8\n",
      "XHB11\n",
      "XHB12a\n",
      "XHB12b\n",
      "XHB13\n",
      "XHB14\n",
      "XHB15\n",
      "XHB16\n",
      "XHB17\n",
      "XHB18\n",
      "IDV\n",
      "PDI\n",
      "MAS\n",
      "UAI\n",
      "XP1\n",
      "pat\n",
      "XF1\n",
      "XF2\n",
      "XF3\n",
      "financial_lit\n",
      "XBN11\n",
      "XBN12a\n",
      "XBN12b\n",
      "XBN13\n",
      "berlin1\n",
      "berlin2\n",
      "berlin3\n",
      "berlin4\n",
      "berlin_nu\n",
      "D_berlin1\n",
      "D_berlin2\n",
      "D_berlin3\n",
      "D_berlin4\n",
      "XCRT1\n",
      "crt1\n",
      "D_crt1\n",
      "XCRT2\n",
      "crt2\n",
      "D_crt2\n",
      "XCRT3\n",
      "crt3\n",
      "D_crt3\n",
      "XCRT4\n",
      "crt4\n",
      "D_crt4\n",
      "XCRT5\n",
      "crt5\n",
      "D_crt5\n",
      "XCRT6\n",
      "crt6\n",
      "D_crt6\n",
      "correct_answers\n",
      "CRT\n",
      "CRT5_A\n",
      "CRT6_A\n",
      "XCRT7\n",
      "crt7\n",
      "D3_crt7\n",
      "D2_crt7\n",
      "D1_crt7\n",
      "XCRT8\n",
      "D_crt8\n",
      "XCRT9\n",
      "crt9\n",
      "XToM\n",
      "XB1\n",
      "XB2\n",
      "XB3\n",
      "XB4\n",
      "XB5\n",
      "XB6\n",
      "XB7\n",
      "XB8\n",
      "XB9\n",
      "XB10\n",
      "oppeness\n",
      "neuro\n",
      "consc\n",
      "agree\n",
      "agreeableness_original\n",
      "agreeableness_short\n",
      "sociable\n",
      "BS11\n",
      "BS12\n",
      "BS14\n",
      "superstition\n",
      "BAWI11\n",
      "BAWI12\n",
      "BAWI13\n",
      "TI\n",
      "friend\n",
      "friend_c\n",
      "friend_D\n",
      "TI1\n",
      "TI2\n",
      "TI3\n",
      "TI4\n",
      "trust_in\n",
      "TOI\n",
      "TO2\n",
      "TO3\n",
      "TO4\n",
      "trust_out\n",
      "trust\n",
      "v_193\n",
      "v_194\n",
      "v_195\n",
      "v_196\n",
      "v_197\n",
      "self_fairness\n",
      "E2\n",
      "E31\n",
      "E32\n",
      "E33\n",
      "E51\n",
      "E52\n",
      "E53\n",
      "E54\n",
      "E55\n",
      "E56\n",
      "E57\n",
      "E58\n",
      "E59\n",
      "E510\n",
      "FA2\n",
      "FA4A\n",
      "FA4B\n",
      "FB2\n",
      "fair1\n",
      "fair2\n",
      "fair3\n",
      "BIF\n",
      "BIF1\n",
      "BIF2\n",
      "FB3\n",
      "FC4\n",
      "inq_aversion\n",
      "FC5\n",
      "FC6\n",
      "FC7\n",
      "FC8\n",
      "SDA\n",
      "IDN\n",
      "SIA\n",
      "SDJ\n",
      "BPF\n",
      "econ_ind\n",
      "XFD6\n",
      "saving_account\n",
      "XFD7\n",
      "g_bond\n",
      "risk_free\n",
      "XFD8\n",
      "local_stock\n",
      "XFD9\n",
      "US_stock\n",
      "invest_stock\n",
      "v_226\n",
      "v_227\n",
      "v_229\n",
      "v_230\n",
      "v_231\n",
      "v_232\n",
      "v_233\n",
      "v_234\n",
      "XH\n",
      "satisfaction\n",
      "XZ1\n",
      "XZ2\n",
      "ALA1\n",
      "ALA2\n",
      "ALA3\n",
      "ALA4\n",
      "ALB1\n",
      "ALB2\n",
      "ALC2\n",
      "ALC3\n",
      "ALC5\n",
      "ALC6\n",
      "ALD1\n",
      "ALD4\n",
      "AC1\n",
      "AC2\n",
      "AC3\n",
      "AC4\n",
      "AC5\n",
      "AC6\n",
      "AC7\n",
      "AC8\n",
      "AC9\n",
      "AC10\n",
      "AC11\n",
      "AC12\n",
      "AC13\n",
      "AC14\n",
      "AC15\n",
      "AC16\n",
      "AC17\n",
      "AC18\n",
      "AC23\n",
      "AC24\n",
      "AC25\n",
      "AC26\n",
      "AC28\n",
      "AC29\n",
      "AC30\n",
      "AC31\n",
      "AC33\n",
      "AC34\n",
      "AC36\n",
      "AC37\n",
      "AIN0\n",
      "AIN1\n",
      "AIN2\n",
      "ACTS1\n",
      "ACTS3\n",
      "AIT1\n",
      "AIT2\n",
      "AIT3\n",
      "F3A2\n",
      "F3A3\n",
      "F3A4\n",
      "F3A6\n",
      "F3A7\n",
      "F3A8\n",
      "F3B2\n",
      "F3B3\n",
      "F3B4\n",
      "F3B5\n",
      "F3B7\n",
      "F3B8\n",
      "F3C2\n",
      "F3C3\n",
      "F3C4\n",
      "F3C5\n",
      "F3C6\n",
      "F3C7\n",
      "F3C8\n",
      "F3D2\n",
      "F3D3\n",
      "F3D4\n",
      "F3D5\n",
      "F3D6\n",
      "F3D7\n",
      "F3E1\n",
      "F3E2\n",
      "F3E3\n",
      "F3E4\n",
      "F3E5\n",
      "F3E6\n",
      "F3E7\n",
      "F3E8\n",
      "F3E9\n",
      "F3E10\n",
      "F3E11\n",
      "F3E16\n",
      "F3E17\n",
      "F3E18\n",
      "F3E20\n",
      "F3E21\n",
      "F3B13\n",
      "F3B14\n",
      "DTG2\n",
      "DTG5\n",
      "DTG7\n",
      "DTG9\n",
      "DTG10\n",
      "DTG12\n",
      "DTG13\n",
      "DTG14\n",
      "DTG15\n",
      "BGK1a\n",
      "BGK1b\n",
      "BGK2a\n",
      "BGK2b\n",
      "BGK3a\n",
      "BGK3b\n",
      "BGK4a\n",
      "BGK4b\n",
      "BGK5a\n",
      "BGK5b\n",
      "BGK6a\n",
      "BGK6b\n",
      "BGK7a\n",
      "BGK7b\n",
      "BGK8a\n",
      "BGK8b\n",
      "BGK9a\n",
      "BGK9b\n",
      "BGK10a\n",
      "BGK10b\n",
      "BGK11a\n",
      "BGK11b\n",
      "BGK12a\n",
      "BGK12b\n",
      "BGK13a\n",
      "BGK13b\n",
      "BGK14a\n",
      "BGK14b\n",
      "BGK15a\n",
      "BGK15b\n",
      "BGK16a\n",
      "BGK16b\n",
      "BGK17a\n",
      "BGK17b\n",
      "BGK18a\n",
      "BGK18b\n",
      "BGK19a\n",
      "BGK19b\n",
      "BGK20a\n",
      "BGK20b\n",
      "BGK21a\n",
      "BGK21b\n",
      "BGK22a\n",
      "BGK22b\n",
      "BGK23a\n",
      "BGK23b\n",
      "BGK24a\n",
      "BGK24b\n",
      "BGK25a\n",
      "BGK25b\n",
      "BGK26a\n",
      "BGK26b\n",
      "v_61\n",
      "BGK27b\n",
      "BGK28a\n",
      "BGK28b\n",
      "BGK29a\n",
      "BGK29b\n",
      "BGK30a\n",
      "BGK30b\n",
      "BGK31a\n",
      "BGK31b\n",
      "BGK32a\n",
      "BGK32b\n",
      "BGK33a\n",
      "BGK33b\n",
      "BGK34a\n",
      "BGK34b\n",
      "BGK35a\n",
      "BGK35b\n",
      "BGK36a\n",
      "BGK36b\n",
      "BGK37a\n",
      "BGK37b\n",
      "BGK38a\n",
      "BGK38b\n",
      "BGK39a\n",
      "BGK39b\n",
      "BGK40a\n",
      "BGK40b\n",
      "BGK41a\n",
      "BGK41b\n",
      "BGK42a\n",
      "BGK42b\n",
      "BGK43a\n",
      "BGK43b\n",
      "BGK44a\n",
      "BGK44b\n",
      "BGK45a\n",
      "BGK45b\n",
      "BGK46a\n",
      "BGK46b\n",
      "BGK47a\n",
      "BGK47b\n",
      "BGK48a\n",
      "BGK48b\n",
      "BGK49a\n",
      "BGK49b\n",
      "BGK50a\n",
      "BGK50b\n",
      "BGK51\n",
      "BGK52\n",
      "browser\n",
      "referer\n",
      "device_type\n",
      "quota\n",
      "quota_assignment\n",
      "page_history\n",
      "hflip\n",
      "vflip\n",
      "output_mode\n",
      "javascript\n",
      "page01\n",
      "page02\n",
      "page03\n",
      "page04\n",
      "page05\n",
      "page06\n",
      "page07\n",
      "page08\n",
      "page09\n",
      "page10\n",
      "page11\n",
      "page12\n",
      "page13\n",
      "page14\n",
      "page15\n",
      "page16\n",
      "page17\n",
      "page18\n",
      "page19\n",
      "page20\n",
      "page21\n",
      "page22\n",
      "page23\n",
      "page24\n",
      "page25\n",
      "page26\n",
      "page27\n",
      "page28\n",
      "page29\n",
      "page30\n",
      "page31\n",
      "page32\n",
      "page33\n",
      "page34\n",
      "page35\n",
      "page36\n",
      "page37\n",
      "page38\n",
      "page39\n",
      "page40\n",
      "page41\n",
      "page42\n",
      "page43\n",
      "page44\n",
      "page45\n",
      "page46\n",
      "page47\n",
      "page48\n",
      "page49\n",
      "page50\n",
      "page51\n",
      "page52\n",
      "page53\n",
      "page54\n",
      "page55\n",
      "page56\n",
      "page57\n",
      "page58\n",
      "page59\n",
      "page60\n",
      "page61\n",
      "page62\n",
      "page63\n",
      "page64\n",
      "page65\n",
      "page66\n",
      "page67\n",
      "page68\n",
      "page69\n",
      "page70\n",
      "page71\n",
      "page72\n",
      "page73\n",
      "flash\n",
      "session_id\n",
      "language\n",
      "cleaned\n",
      "ats\n",
      "datetime\n",
      "date_of_last_access\n",
      "date_of_first_mail\n",
      "Duration_1\n",
      "lott11\n",
      "D_lott11\n",
      "lott12\n",
      "D_lott12\n",
      "lott3\n",
      "finlit1\n",
      "finlit2\n",
      "finlit3\n",
      "finlits1\n",
      "No_pages\n",
      "page_av\n",
      "prob_pack\n",
      "tech_pack\n",
      "base_pack\n",
      "tech_pack_p\n",
      "prob_pack_p\n",
      "base_pack_avtime\n",
      "base_pack_quality\n",
      "tech_pack_avtime\n",
      "tech_pack_quality\n",
      "prob_pack_avtime\n",
      "prob_pack_quality\n",
      "D_irr_hincome\n",
      "rbgk1a\n",
      "rbgk2a\n",
      "rbgk3a\n",
      "rbgk4a\n",
      "rbgk5a\n",
      "rbgk6a\n",
      "rbgk7a\n",
      "rbgk8a\n",
      "rbgk9a\n",
      "rbgk10a\n",
      "rbgk11a\n",
      "rbgk12a\n",
      "rbgk13a\n",
      "rbgk14a\n",
      "rbgk15a\n",
      "rbgk16a\n",
      "rbgk17a\n",
      "rbgk18a\n",
      "rbgk19a\n",
      "rbgk20a\n",
      "rbgk21a\n",
      "rbgk22a\n",
      "rbgk23a\n",
      "rbgk24a\n",
      "rbgk25a\n",
      "rbgk26a\n",
      "rbgk27a\n",
      "rbgk28a\n",
      "rbgk29a\n",
      "rbgk30a\n",
      "rbgk31a\n",
      "rbgk32a\n",
      "rbgk33a\n",
      "rbgk34a\n",
      "rbgk35a\n",
      "rbgk36a\n",
      "rbgk37a\n",
      "rbgk38a\n",
      "rbgk39a\n",
      "rbgk40a\n",
      "rbgk41a\n",
      "rbgk42a\n",
      "rbgk43a\n",
      "rbgk44a\n",
      "rbgk45a\n",
      "rbgk46a\n",
      "rbgk47a\n",
      "rbgk48a\n",
      "rbgk49a\n",
      "rbgk50a\n",
      "rbgk1b\n",
      "rbgk2b\n",
      "rbgk3b\n",
      "rbgk4b\n",
      "rbgk5b\n",
      "rbgk6b\n",
      "rbgk7b\n",
      "rbgk8b\n",
      "rbgk9b\n",
      "rbgk10b\n",
      "rbgk11b\n",
      "rbgk12b\n",
      "rbgk13b\n",
      "rbgk14b\n",
      "rbgk15b\n",
      "rbgk16b\n",
      "rbgk17b\n",
      "rbgk18b\n",
      "rbgk19b\n",
      "rbgk20b\n",
      "rbgk21b\n",
      "rbgk22b\n",
      "rbgk23b\n",
      "rbgk24b\n",
      "rbgk25b\n",
      "rbgk26b\n",
      "rbgk27b\n",
      "rbgk28b\n",
      "rbgk29b\n",
      "rbgk30b\n",
      "rbgk31b\n",
      "rbgk32b\n",
      "rbgk33b\n",
      "rbgk34b\n",
      "rbgk35b\n",
      "rbgk36b\n",
      "rbgk37b\n",
      "rbgk38b\n",
      "rbgk39b\n",
      "rbgk40b\n",
      "rbgk41b\n",
      "rbgk42b\n",
      "rbgk43b\n",
      "rbgk44b\n",
      "rbgk45b\n",
      "rbgk46b\n",
      "rbgk47b\n",
      "rbgk48b\n",
      "rbgk49b\n",
      "rbgk50b\n",
      "total_right\n",
      "total_answers\n",
      "right_percentage\n",
      "prob_average\n",
      "prob_score\n",
      "overest_score\n",
      "delta_score\n",
      "bta_sub\n",
      "bta\n",
      "bta_real1a\n",
      "bta_real1b\n",
      "bta_real1\n",
      "bta_real2a\n",
      "tor\n",
      "toe\n",
      "bta_real2b\n",
      "bta_real2\n"
     ]
    }
   ],
   "source": [
    "for column in df.columns:\n",
    "    print(column)"
   ]
  },
  {
   "cell_type": "code",
   "execution_count": 6,
   "metadata": {},
   "outputs": [],
   "source": [
    "#df = df[df.country != 'Germany']\n",
    "#df = df[df.country != 'Estonia']\n",
    "#df"
   ]
  },
  {
   "cell_type": "code",
   "execution_count": 47,
   "metadata": {
    "ExecuteTime": {
     "end_time": "2020-10-12T17:29:31.760302Z",
     "start_time": "2020-10-12T17:29:31.655107Z"
    },
    "scrolled": true
   },
   "outputs": [
    {
     "data": {
      "text/html": [
       "<div>\n",
       "<style scoped>\n",
       "    .dataframe tbody tr th:only-of-type {\n",
       "        vertical-align: middle;\n",
       "    }\n",
       "\n",
       "    .dataframe tbody tr th {\n",
       "        vertical-align: top;\n",
       "    }\n",
       "\n",
       "    .dataframe thead th {\n",
       "        text-align: right;\n",
       "    }\n",
       "</style>\n",
       "<table border=\"1\" class=\"dataframe\">\n",
       "  <thead>\n",
       "    <tr style=\"text-align: right;\">\n",
       "      <th></th>\n",
       "      <th>country</th>\n",
       "      <th>job</th>\n",
       "      <th>parent</th>\n",
       "      <th>uni_degree</th>\n",
       "      <th>patient</th>\n",
       "      <th>XF1</th>\n",
       "      <th>XF2</th>\n",
       "      <th>XF3</th>\n",
       "      <th>female</th>\n",
       "      <th>age</th>\n",
       "      <th>...</th>\n",
       "      <th>Japan_D</th>\n",
       "      <th>XP1</th>\n",
       "      <th>XFD8</th>\n",
       "      <th>XFD9</th>\n",
       "      <th>homebias</th>\n",
       "      <th>Home Bias</th>\n",
       "      <th>Patriotism</th>\n",
       "      <th>Financial Literacy</th>\n",
       "      <th>CAPM</th>\n",
       "      <th>Home Bias 2</th>\n",
       "    </tr>\n",
       "  </thead>\n",
       "  <tbody>\n",
       "    <tr>\n",
       "      <th>0</th>\n",
       "      <td>Taiwan</td>\n",
       "      <td>7.0</td>\n",
       "      <td>0.0</td>\n",
       "      <td>1.0</td>\n",
       "      <td>1.0</td>\n",
       "      <td>1.0</td>\n",
       "      <td>3.0</td>\n",
       "      <td>2.0</td>\n",
       "      <td>0.0</td>\n",
       "      <td>22.0</td>\n",
       "      <td>...</td>\n",
       "      <td>0.0</td>\n",
       "      <td>0.333333</td>\n",
       "      <td>60.0</td>\n",
       "      <td>40.0</td>\n",
       "      <td>0.200000</td>\n",
       "      <td>0.20</td>\n",
       "      <td>0.33</td>\n",
       "      <td>1.000000</td>\n",
       "      <td>0.0194</td>\n",
       "      <td>0.580600</td>\n",
       "    </tr>\n",
       "    <tr>\n",
       "      <th>1</th>\n",
       "      <td>Taiwan</td>\n",
       "      <td>4.0</td>\n",
       "      <td>0.0</td>\n",
       "      <td>1.0</td>\n",
       "      <td>1.0</td>\n",
       "      <td>1.0</td>\n",
       "      <td>3.0</td>\n",
       "      <td>2.0</td>\n",
       "      <td>0.0</td>\n",
       "      <td>22.0</td>\n",
       "      <td>...</td>\n",
       "      <td>0.0</td>\n",
       "      <td>0.333333</td>\n",
       "      <td>60.0</td>\n",
       "      <td>40.0</td>\n",
       "      <td>0.200000</td>\n",
       "      <td>0.20</td>\n",
       "      <td>0.33</td>\n",
       "      <td>1.000000</td>\n",
       "      <td>0.0194</td>\n",
       "      <td>0.580600</td>\n",
       "    </tr>\n",
       "    <tr>\n",
       "      <th>2</th>\n",
       "      <td>Taiwan</td>\n",
       "      <td>1.0</td>\n",
       "      <td>0.0</td>\n",
       "      <td>0.0</td>\n",
       "      <td>1.0</td>\n",
       "      <td>1.0</td>\n",
       "      <td>3.0</td>\n",
       "      <td>2.0</td>\n",
       "      <td>0.0</td>\n",
       "      <td>18.0</td>\n",
       "      <td>...</td>\n",
       "      <td>0.0</td>\n",
       "      <td>-0.333333</td>\n",
       "      <td>5.0</td>\n",
       "      <td>5.0</td>\n",
       "      <td>0.000000</td>\n",
       "      <td>0.00</td>\n",
       "      <td>-0.33</td>\n",
       "      <td>1.000000</td>\n",
       "      <td>0.0194</td>\n",
       "      <td>0.480600</td>\n",
       "    </tr>\n",
       "    <tr>\n",
       "      <th>3</th>\n",
       "      <td>Taiwan</td>\n",
       "      <td>7.0</td>\n",
       "      <td>0.0</td>\n",
       "      <td>1.0</td>\n",
       "      <td>0.0</td>\n",
       "      <td>1.0</td>\n",
       "      <td>1.0</td>\n",
       "      <td>3.0</td>\n",
       "      <td>0.0</td>\n",
       "      <td>25.0</td>\n",
       "      <td>...</td>\n",
       "      <td>0.0</td>\n",
       "      <td>-0.333333</td>\n",
       "      <td>25.0</td>\n",
       "      <td>25.0</td>\n",
       "      <td>0.000000</td>\n",
       "      <td>0.00</td>\n",
       "      <td>-0.33</td>\n",
       "      <td>0.333333</td>\n",
       "      <td>0.0194</td>\n",
       "      <td>0.480600</td>\n",
       "    </tr>\n",
       "    <tr>\n",
       "      <th>4</th>\n",
       "      <td>Taiwan</td>\n",
       "      <td>2.0</td>\n",
       "      <td>0.0</td>\n",
       "      <td>0.0</td>\n",
       "      <td>1.0</td>\n",
       "      <td>1.0</td>\n",
       "      <td>3.0</td>\n",
       "      <td>1.0</td>\n",
       "      <td>0.0</td>\n",
       "      <td>21.0</td>\n",
       "      <td>...</td>\n",
       "      <td>0.0</td>\n",
       "      <td>0.333333</td>\n",
       "      <td>20.0</td>\n",
       "      <td>70.0</td>\n",
       "      <td>-0.555556</td>\n",
       "      <td>-0.56</td>\n",
       "      <td>0.33</td>\n",
       "      <td>0.666667</td>\n",
       "      <td>0.0194</td>\n",
       "      <td>0.202822</td>\n",
       "    </tr>\n",
       "    <tr>\n",
       "      <th>...</th>\n",
       "      <td>...</td>\n",
       "      <td>...</td>\n",
       "      <td>...</td>\n",
       "      <td>...</td>\n",
       "      <td>...</td>\n",
       "      <td>...</td>\n",
       "      <td>...</td>\n",
       "      <td>...</td>\n",
       "      <td>...</td>\n",
       "      <td>...</td>\n",
       "      <td>...</td>\n",
       "      <td>...</td>\n",
       "      <td>...</td>\n",
       "      <td>...</td>\n",
       "      <td>...</td>\n",
       "      <td>...</td>\n",
       "      <td>...</td>\n",
       "      <td>...</td>\n",
       "      <td>...</td>\n",
       "      <td>...</td>\n",
       "      <td>...</td>\n",
       "    </tr>\n",
       "    <tr>\n",
       "      <th>3639</th>\n",
       "      <td>Vitnam</td>\n",
       "      <td>4.0</td>\n",
       "      <td>0.0</td>\n",
       "      <td>1.0</td>\n",
       "      <td>0.0</td>\n",
       "      <td>1.0</td>\n",
       "      <td>1.0</td>\n",
       "      <td>3.0</td>\n",
       "      <td>1.0</td>\n",
       "      <td>34.0</td>\n",
       "      <td>...</td>\n",
       "      <td>0.0</td>\n",
       "      <td>-0.333333</td>\n",
       "      <td>35.0</td>\n",
       "      <td>10.0</td>\n",
       "      <td>0.555556</td>\n",
       "      <td>0.56</td>\n",
       "      <td>-0.33</td>\n",
       "      <td>0.333333</td>\n",
       "      <td>0.0020</td>\n",
       "      <td>0.775778</td>\n",
       "    </tr>\n",
       "    <tr>\n",
       "      <th>3640</th>\n",
       "      <td>Vitnam</td>\n",
       "      <td>4.0</td>\n",
       "      <td>0.0</td>\n",
       "      <td>0.0</td>\n",
       "      <td>0.0</td>\n",
       "      <td>1.0</td>\n",
       "      <td>3.0</td>\n",
       "      <td>2.0</td>\n",
       "      <td>0.0</td>\n",
       "      <td>26.0</td>\n",
       "      <td>...</td>\n",
       "      <td>0.0</td>\n",
       "      <td>0.333333</td>\n",
       "      <td>10.0</td>\n",
       "      <td>30.0</td>\n",
       "      <td>-0.500000</td>\n",
       "      <td>-0.50</td>\n",
       "      <td>0.33</td>\n",
       "      <td>1.000000</td>\n",
       "      <td>0.0020</td>\n",
       "      <td>0.248000</td>\n",
       "    </tr>\n",
       "    <tr>\n",
       "      <th>3644</th>\n",
       "      <td>Vitnam</td>\n",
       "      <td>2.0</td>\n",
       "      <td>0.0</td>\n",
       "      <td>0.0</td>\n",
       "      <td>0.0</td>\n",
       "      <td>1.0</td>\n",
       "      <td>3.0</td>\n",
       "      <td>2.0</td>\n",
       "      <td>0.0</td>\n",
       "      <td>21.0</td>\n",
       "      <td>...</td>\n",
       "      <td>0.0</td>\n",
       "      <td>0.333333</td>\n",
       "      <td>10.0</td>\n",
       "      <td>10.0</td>\n",
       "      <td>0.000000</td>\n",
       "      <td>0.00</td>\n",
       "      <td>0.33</td>\n",
       "      <td>1.000000</td>\n",
       "      <td>0.0020</td>\n",
       "      <td>0.498000</td>\n",
       "    </tr>\n",
       "    <tr>\n",
       "      <th>3645</th>\n",
       "      <td>Vitnam</td>\n",
       "      <td>2.0</td>\n",
       "      <td>0.0</td>\n",
       "      <td>0.0</td>\n",
       "      <td>1.0</td>\n",
       "      <td>1.0</td>\n",
       "      <td>3.0</td>\n",
       "      <td>1.0</td>\n",
       "      <td>1.0</td>\n",
       "      <td>21.0</td>\n",
       "      <td>...</td>\n",
       "      <td>0.0</td>\n",
       "      <td>-1.000000</td>\n",
       "      <td>10.0</td>\n",
       "      <td>10.0</td>\n",
       "      <td>0.000000</td>\n",
       "      <td>0.00</td>\n",
       "      <td>-1.00</td>\n",
       "      <td>0.666667</td>\n",
       "      <td>0.0020</td>\n",
       "      <td>0.498000</td>\n",
       "    </tr>\n",
       "    <tr>\n",
       "      <th>3646</th>\n",
       "      <td>Vitnam</td>\n",
       "      <td>3.0</td>\n",
       "      <td>0.0</td>\n",
       "      <td>0.0</td>\n",
       "      <td>0.0</td>\n",
       "      <td>1.0</td>\n",
       "      <td>3.0</td>\n",
       "      <td>2.0</td>\n",
       "      <td>0.0</td>\n",
       "      <td>43.0</td>\n",
       "      <td>...</td>\n",
       "      <td>0.0</td>\n",
       "      <td>0.333333</td>\n",
       "      <td>10.0</td>\n",
       "      <td>10.0</td>\n",
       "      <td>0.000000</td>\n",
       "      <td>0.00</td>\n",
       "      <td>0.33</td>\n",
       "      <td>1.000000</td>\n",
       "      <td>0.0020</td>\n",
       "      <td>0.498000</td>\n",
       "    </tr>\n",
       "  </tbody>\n",
       "</table>\n",
       "<p>2504 rows × 25 columns</p>\n",
       "</div>"
      ],
      "text/plain": [
       "     country  job  parent  uni_degree  patient  XF1  XF2  XF3  female   age  \\\n",
       "0     Taiwan  7.0     0.0         1.0      1.0  1.0  3.0  2.0     0.0  22.0   \n",
       "1     Taiwan  4.0     0.0         1.0      1.0  1.0  3.0  2.0     0.0  22.0   \n",
       "2     Taiwan  1.0     0.0         0.0      1.0  1.0  3.0  2.0     0.0  18.0   \n",
       "3     Taiwan  7.0     0.0         1.0      0.0  1.0  1.0  3.0     0.0  25.0   \n",
       "4     Taiwan  2.0     0.0         0.0      1.0  1.0  3.0  1.0     0.0  21.0   \n",
       "...      ...  ...     ...         ...      ...  ...  ...  ...     ...   ...   \n",
       "3639  Vitnam  4.0     0.0         1.0      0.0  1.0  1.0  3.0     1.0  34.0   \n",
       "3640  Vitnam  4.0     0.0         0.0      0.0  1.0  3.0  2.0     0.0  26.0   \n",
       "3644  Vitnam  2.0     0.0         0.0      0.0  1.0  3.0  2.0     0.0  21.0   \n",
       "3645  Vitnam  2.0     0.0         0.0      1.0  1.0  3.0  1.0     1.0  21.0   \n",
       "3646  Vitnam  3.0     0.0         0.0      0.0  1.0  3.0  2.0     0.0  43.0   \n",
       "\n",
       "      ...  Japan_D       XP1  XFD8  XFD9  homebias  Home Bias  Patriotism  \\\n",
       "0     ...      0.0  0.333333  60.0  40.0  0.200000       0.20        0.33   \n",
       "1     ...      0.0  0.333333  60.0  40.0  0.200000       0.20        0.33   \n",
       "2     ...      0.0 -0.333333   5.0   5.0  0.000000       0.00       -0.33   \n",
       "3     ...      0.0 -0.333333  25.0  25.0  0.000000       0.00       -0.33   \n",
       "4     ...      0.0  0.333333  20.0  70.0 -0.555556      -0.56        0.33   \n",
       "...   ...      ...       ...   ...   ...       ...        ...         ...   \n",
       "3639  ...      0.0 -0.333333  35.0  10.0  0.555556       0.56       -0.33   \n",
       "3640  ...      0.0  0.333333  10.0  30.0 -0.500000      -0.50        0.33   \n",
       "3644  ...      0.0  0.333333  10.0  10.0  0.000000       0.00        0.33   \n",
       "3645  ...      0.0 -1.000000  10.0  10.0  0.000000       0.00       -1.00   \n",
       "3646  ...      0.0  0.333333  10.0  10.0  0.000000       0.00        0.33   \n",
       "\n",
       "      Financial Literacy    CAPM  Home Bias 2  \n",
       "0               1.000000  0.0194     0.580600  \n",
       "1               1.000000  0.0194     0.580600  \n",
       "2               1.000000  0.0194     0.480600  \n",
       "3               0.333333  0.0194     0.480600  \n",
       "4               0.666667  0.0194     0.202822  \n",
       "...                  ...     ...          ...  \n",
       "3639            0.333333  0.0020     0.775778  \n",
       "3640            1.000000  0.0020     0.248000  \n",
       "3644            1.000000  0.0020     0.498000  \n",
       "3645            0.666667  0.0020     0.498000  \n",
       "3646            1.000000  0.0020     0.498000  \n",
       "\n",
       "[2504 rows x 25 columns]"
      ]
     },
     "execution_count": 47,
     "metadata": {},
     "output_type": "execute_result"
    }
   ],
   "source": [
    "# relevant answers for patriotism and home bias (external variable name (see codebook)) and the nationality\n",
    "\n",
    "dfr = df[['country','job','parent','uni_degree','patient','XF1','XF2','XF3','female','age','Estonia_D','Taiwan_D','China_D','Vietnam_D','Germany_D','Japan_D','XP1','XFD8','XFD9']]\n",
    "dfr = dfr.dropna() # drop NaN values\n",
    "dfr['homebias'] = (dfr['XFD8']-dfr['XFD9'])/(dfr['XFD8']+dfr['XFD9'])\n",
    "dfr['Home Bias'] = dfr['homebias'].round(2)\n",
    "dfr['XP1'] = ((-dfr['XP1']+5)-1)/3*2-1\n",
    "dfr['Patriotism'] = dfr['XP1'].round(2)\n",
    "dfr['Financial Literacy'] = (np.where(dfr['XF1']== 1, 1, 0)+np.where(dfr['XF2']== 3, 1, 0)+np.where(dfr['XF3']== 2, 1, 0))/3\n",
    "\n",
    "# subtract capm share from each individual country\n",
    "dfr['CAPM']=(np.where(dfr['country']== 'Taiwan', 0.0194, 0)+np.where(dfr['country']== 'China', 0.0936, 0)+np.where(dfr['country']== 'japan', 0.0783, 0)+np.where(dfr['country']== 'Vitnam', 0.002, 0)+np.where(dfr['country']== 'Estonia', 0, 0)+np.where(dfr['country']== 'Germany', 0.0260, 0))\n",
    "dfr['Home Bias 2'] = (dfr['XFD8'])/(dfr['XFD8']+dfr['XFD9'])-dfr['CAPM']\n",
    "#dfr = dfr[dfr.country != 'Germany']\n",
    "#dfr = dfr[dfr.country != 'Estonia']\n",
    "dfr"
   ]
  },
  {
   "cell_type": "markdown",
   "metadata": {},
   "source": [
    "# Data Export (for R script)"
   ]
  },
  {
   "cell_type": "code",
   "execution_count": 8,
   "metadata": {
    "ExecuteTime": {
     "end_time": "2020-10-12T17:29:34.020490Z",
     "start_time": "2020-10-12T17:29:33.950361Z"
    }
   },
   "outputs": [],
   "source": [
    "#Export the dataframe to verify the data we used for the regression\n",
    "dfr.to_csv('relevantdata.csv')"
   ]
  },
  {
   "cell_type": "markdown",
   "metadata": {},
   "source": [
    "### Export without values that have 0 difference in stocks (home vs abroad)"
   ]
  },
  {
   "cell_type": "code",
   "execution_count": 9,
   "metadata": {
    "ExecuteTime": {
     "end_time": "2020-10-12T17:29:35.720323Z",
     "start_time": "2020-10-12T17:29:35.695277Z"
    }
   },
   "outputs": [],
   "source": [
    "#Declare the columns we want to extract from the data\n",
    "column_list = ['country','job','parent','uni_degree','patient',\n",
    "               'XF1','XF2','XF3','female','age','Estonia_D',\n",
    "               'Taiwan_D','China_D','Vietnam_D','Germany_D',\n",
    "               'Japan_D','XP1','XFD8','XFD9']\n",
    "\n",
    "df_export_nonzero_nan = df[column_list].copy(deep=True)\n",
    "\n",
    "#Drop the Nan values\n",
    "#Removes all the XDF8,XDF9 nan values\n",
    "df_export_nonzero_nan = df_export_nonzero_nan.dropna()"
   ]
  },
  {
   "cell_type": "code",
   "execution_count": 10,
   "metadata": {
    "ExecuteTime": {
     "end_time": "2020-10-12T17:29:36.520189Z",
     "start_time": "2020-10-12T17:29:35.930371Z"
    }
   },
   "outputs": [],
   "source": [
    "#Removal of XFD8 - XFD9 = 0\n",
    "#List to store the indexes we want to keep\n",
    "nonzero_nan_list = []\n",
    "\n",
    "#Loop all the rows in the dataframe \n",
    "for i in range(0,len(df_export_nonzero_nan)):\n",
    "    \n",
    "    #Compute the difference between XFD8 and XFD9\n",
    "    diff = df_export_nonzero_nan.iloc[i]['XFD8'] - df_export_nonzero_nan.iloc[i]['XFD9']\n",
    "    \n",
    "    #If the difference between the two is 0\n",
    "    if(diff != 0):\n",
    "        #Add the row number to the zero list\n",
    "        nonzero_nan_list.append(i)"
   ]
  },
  {
   "cell_type": "code",
   "execution_count": 11,
   "metadata": {
    "ExecuteTime": {
     "end_time": "2020-10-12T17:29:58.440124Z",
     "start_time": "2020-10-12T17:29:58.430602Z"
    }
   },
   "outputs": [],
   "source": [
    "#Set the dataframe with the indexes we want to keep\n",
    "df_export_nonzero_nan = df_export_nonzero_nan.iloc[nonzero_nan_list].copy(deep=True)\n",
    "\n",
    "#Reset the index to new numbers based on current length\n",
    "df_export_nonzero_nan.index = np.arange(0,len(df_export_nonzero_nan),1)"
   ]
  },
  {
   "cell_type": "code",
   "execution_count": 12,
   "metadata": {
    "ExecuteTime": {
     "end_time": "2020-10-12T17:30:00.170169Z",
     "start_time": "2020-10-12T17:30:00.145129Z"
    }
   },
   "outputs": [],
   "source": [
    "df_export_nonzero_nan.loc[:,'CAPM']=(np.where(df_export_nonzero_nan['country']== 'Taiwan', 0.0194, 0)+\n",
    "                                     np.where(df_export_nonzero_nan['country']== 'China', 0.0936, 0)+\n",
    "                                     np.where(df_export_nonzero_nan['country']== 'japan', 0.0783, 0)+\n",
    "                                     np.where(df_export_nonzero_nan['country']== 'Vitnam', 0.002, 0)+\n",
    "                                     np.where(df_export_nonzero_nan['country']== 'Estonia', 0, 0)+\n",
    "                                     np.where(df_export_nonzero_nan['country']== 'Germany', 0.0260, 0))\n",
    "\n",
    "df_export_nonzero_nan.loc[:,'Home_Bias_2'] = (df_export_nonzero_nan['XFD8'])/(df_export_nonzero_nan['XFD8']+\n",
    "                                              df_export_nonzero_nan['XFD9'])-df_export_nonzero_nan['CAPM']"
   ]
  },
  {
   "cell_type": "code",
   "execution_count": 13,
   "metadata": {
    "ExecuteTime": {
     "end_time": "2020-10-12T17:30:00.905409Z",
     "start_time": "2020-10-12T17:30:00.815096Z"
    }
   },
   "outputs": [],
   "source": [
    "pyreadstat.write_sav(df_export_nonzero_nan,'nonzero_nan.sav')"
   ]
  },
  {
   "cell_type": "markdown",
   "metadata": {},
   "source": [
    "### Exoport without values that have 0 as the base quality"
   ]
  },
  {
   "cell_type": "code",
   "execution_count": 14,
   "metadata": {
    "ExecuteTime": {
     "end_time": "2020-10-12T17:30:02.260279Z",
     "start_time": "2020-10-12T17:30:01.950327Z"
    }
   },
   "outputs": [],
   "source": [
    "#Declare the columns we want to extract from the data\n",
    "column_list = ['country','job','parent','uni_degree','patient',\n",
    "               'XF1','XF2','XF3','female','age','Estonia_D',\n",
    "               'Taiwan_D','China_D','Vietnam_D','Germany_D',\n",
    "               'Japan_D','XP1','XFD8','XFD9','base_pack_quality']\n",
    "\n",
    "df_export_nonzero_quality = df[column_list].copy(deep=True)\n",
    "\n",
    "#Drop the Nan values\n",
    "#Removes all the XDF8,XDF9 nan values\n",
    "df_export_nonzero_quality = df_export_nonzero_quality.dropna()\n",
    "\n",
    "#Removal of base package quality\n",
    "#List to store the indexes we want to keep\n",
    "nonzero_quality_list = []\n",
    "\n",
    "#Loop all the rows in the dataframe \n",
    "for i in range(0,len(df_export_nonzero_quality)):\n",
    "    \n",
    "    #If the package \n",
    "    if(df_export_nonzero_quality.iloc[i]['base_pack_quality'] != 0):\n",
    "        #Add the row number to the zero list\n",
    "        nonzero_quality_list.append(i)\n",
    "        \n",
    "#Set the dataframe with the indexes we want to keep\n",
    "df_export_nonzero_quality = df_export_nonzero_quality.iloc[nonzero_quality_list]\n",
    "\n",
    "#Reset the index to new numbers based on current length\n",
    "df_export_nonzero_quality.index = np.arange(0,len(df_export_nonzero_quality),1)"
   ]
  },
  {
   "cell_type": "code",
   "execution_count": 15,
   "metadata": {
    "ExecuteTime": {
     "end_time": "2020-10-12T17:30:02.560505Z",
     "start_time": "2020-10-12T17:30:02.545483Z"
    }
   },
   "outputs": [],
   "source": [
    "df_export_nonzero_quality.loc[:,'CAPM']=(np.where(df_export_nonzero_quality['country']== 'Taiwan', 0.0194, 0)+\n",
    "                                         np.where(df_export_nonzero_quality['country']== 'China', 0.0936, 0)+\n",
    "                                         np.where(df_export_nonzero_quality['country']== 'japan', 0.0783, 0)+\n",
    "                                         np.where(df_export_nonzero_quality['country']== 'Vitnam', 0.002, 0)+\n",
    "                                         np.where(df_export_nonzero_quality['country']== 'Estonia', 0, 0)+\n",
    "                                         np.where(df_export_nonzero_quality['country']== 'Germany', 0.0260, 0))\n",
    "\n",
    "df_export_nonzero_quality.loc[:,'Home_Bias_2'] = (df_export_nonzero_quality['XFD8'])/(df_export_nonzero_quality['XFD8']+\n",
    "                                                                                      df_export_nonzero_quality['XFD9'])-df_export_nonzero_quality['CAPM']"
   ]
  },
  {
   "cell_type": "code",
   "execution_count": 16,
   "metadata": {
    "ExecuteTime": {
     "end_time": "2020-10-12T17:30:03.080355Z",
     "start_time": "2020-10-12T17:30:03.050294Z"
    }
   },
   "outputs": [],
   "source": [
    "pyreadstat.write_sav(df_export_nonzero_quality,'nonzero_quality.sav')"
   ]
  },
  {
   "cell_type": "markdown",
   "metadata": {},
   "source": [
    "### Export without base quality = 0 and diff = 0"
   ]
  },
  {
   "cell_type": "code",
   "execution_count": 17,
   "metadata": {
    "ExecuteTime": {
     "end_time": "2020-10-12T17:30:04.540193Z",
     "start_time": "2020-10-12T17:30:03.950406Z"
    }
   },
   "outputs": [],
   "source": [
    "df_export_nonzero_quality_nan = df_export_nonzero_quality.copy(deep=True)\n",
    "\n",
    "#Removal of XFD8 - XFD9 = 0\n",
    "#List to store the indexes we want to keep\n",
    "nonzero_quality_nan_list = []\n",
    "\n",
    "#Loop all the rows in the dataframe \n",
    "for i in range(0,len(df_export_nonzero_quality_nan)):\n",
    "    \n",
    "    #Compute the difference between XFD8 and XFD9\n",
    "    diff = df_export_nonzero_quality_nan.iloc[i]['XFD8'] - df_export_nonzero_quality_nan.iloc[i]['XFD9']\n",
    "    \n",
    "    #If the difference between the two is 0\n",
    "    if(diff != 0):\n",
    "        #Add the row number to the zero list\n",
    "        nonzero_quality_nan_list.append(i)\n",
    "        \n",
    "#Set the dataframe with the indexes we want to keep\n",
    "df_export_nonzero_quality_nan = df_export_nonzero_quality_nan.iloc[nonzero_quality_nan_list]\n",
    "\n",
    "#Reset the index to new numbers based on current length\n",
    "df_export_nonzero_quality_nan.index = np.arange(0,len(df_export_nonzero_quality_nan),1)"
   ]
  },
  {
   "cell_type": "code",
   "execution_count": 18,
   "metadata": {
    "ExecuteTime": {
     "end_time": "2020-10-12T17:30:04.575473Z",
     "start_time": "2020-10-12T17:30:04.545226Z"
    }
   },
   "outputs": [],
   "source": [
    "pyreadstat.write_sav(df_export_nonzero_quality_nan,'nonzero_quality_nan.sav')"
   ]
  },
  {
   "cell_type": "markdown",
   "metadata": {},
   "source": [
    "# Linear Regression"
   ]
  },
  {
   "cell_type": "code",
   "execution_count": 19,
   "metadata": {
    "ExecuteTime": {
     "end_time": "2020-10-12T17:30:07.000362Z",
     "start_time": "2020-10-12T17:30:05.850202Z"
    },
    "scrolled": true
   },
   "outputs": [
    {
     "data": {
      "text/html": [
       "<table class=\"simpletable\">\n",
       "<caption>OLS Regression Results</caption>\n",
       "<tr>\n",
       "  <th>Dep. Variable:</th>        <td>Home Bias</td>    <th>  R-squared:         </th> <td>   0.014</td>\n",
       "</tr>\n",
       "<tr>\n",
       "  <th>Model:</th>                   <td>OLS</td>       <th>  Adj. R-squared:    </th> <td>   0.009</td>\n",
       "</tr>\n",
       "<tr>\n",
       "  <th>Method:</th>             <td>Least Squares</td>  <th>  F-statistic:       </th> <td>   2.852</td>\n",
       "</tr>\n",
       "<tr>\n",
       "  <th>Date:</th>             <td>Tue, 13 Oct 2020</td> <th>  Prob (F-statistic):</th>  <td>0.00377</td>\n",
       "</tr>\n",
       "<tr>\n",
       "  <th>Time:</th>                 <td>02:17:11</td>     <th>  Log-Likelihood:    </th> <td> -1345.3</td>\n",
       "</tr>\n",
       "<tr>\n",
       "  <th>No. Observations:</th>      <td>  1607</td>      <th>  AIC:               </th> <td>   2709.</td>\n",
       "</tr>\n",
       "<tr>\n",
       "  <th>Df Residuals:</th>          <td>  1598</td>      <th>  BIC:               </th> <td>   2757.</td>\n",
       "</tr>\n",
       "<tr>\n",
       "  <th>Df Model:</th>              <td>     8</td>      <th>                     </th>     <td> </td>   \n",
       "</tr>\n",
       "<tr>\n",
       "  <th>Covariance Type:</th>         <td>HAC</td>       <th>                     </th>     <td> </td>   \n",
       "</tr>\n",
       "</table>\n",
       "<table class=\"simpletable\">\n",
       "<tr>\n",
       "           <td></td>             <th>coef</th>     <th>std err</th>      <th>z</th>      <th>P>|z|</th>  <th>[0.025</th>    <th>0.975]</th>  \n",
       "</tr>\n",
       "<tr>\n",
       "  <th>const</th>              <td>   -0.1988</td> <td>    0.140</td> <td>   -1.424</td> <td> 0.154</td> <td>   -0.472</td> <td>    0.075</td>\n",
       "</tr>\n",
       "<tr>\n",
       "  <th>Patriotism</th>         <td>    0.0540</td> <td>    0.027</td> <td>    2.022</td> <td> 0.043</td> <td>    0.002</td> <td>    0.106</td>\n",
       "</tr>\n",
       "<tr>\n",
       "  <th>Financial Literacy</th> <td>   -0.0043</td> <td>    0.049</td> <td>   -0.087</td> <td> 0.931</td> <td>   -0.101</td> <td>    0.093</td>\n",
       "</tr>\n",
       "<tr>\n",
       "  <th>female</th>             <td>    0.0503</td> <td>    0.029</td> <td>    1.736</td> <td> 0.083</td> <td>   -0.007</td> <td>    0.107</td>\n",
       "</tr>\n",
       "<tr>\n",
       "  <th>age</th>                <td>    0.0040</td> <td>    0.003</td> <td>    1.551</td> <td> 0.121</td> <td>   -0.001</td> <td>    0.009</td>\n",
       "</tr>\n",
       "<tr>\n",
       "  <th>Taiwan_D</th>           <td>    0.0629</td> <td>    0.119</td> <td>    0.530</td> <td> 0.596</td> <td>   -0.170</td> <td>    0.296</td>\n",
       "</tr>\n",
       "<tr>\n",
       "  <th>China_D</th>            <td>    0.1348</td> <td>    0.119</td> <td>    1.133</td> <td> 0.257</td> <td>   -0.098</td> <td>    0.368</td>\n",
       "</tr>\n",
       "<tr>\n",
       "  <th>Vietnam_D</th>          <td>    0.1686</td> <td>    0.120</td> <td>    1.403</td> <td> 0.161</td> <td>   -0.067</td> <td>    0.404</td>\n",
       "</tr>\n",
       "<tr>\n",
       "  <th>Japan_D</th>            <td>    0.1470</td> <td>    0.125</td> <td>    1.173</td> <td> 0.241</td> <td>   -0.099</td> <td>    0.393</td>\n",
       "</tr>\n",
       "</table>\n",
       "<table class=\"simpletable\">\n",
       "<tr>\n",
       "  <th>Omnibus:</th>       <td>14.011</td> <th>  Durbin-Watson:     </th> <td>   1.993</td>\n",
       "</tr>\n",
       "<tr>\n",
       "  <th>Prob(Omnibus):</th> <td> 0.001</td> <th>  Jarque-Bera (JB):  </th> <td>   9.563</td>\n",
       "</tr>\n",
       "<tr>\n",
       "  <th>Skew:</th>          <td> 0.026</td> <th>  Prob(JB):          </th> <td> 0.00838</td>\n",
       "</tr>\n",
       "<tr>\n",
       "  <th>Kurtosis:</th>      <td> 2.626</td> <th>  Cond. No.          </th> <td>    748.</td>\n",
       "</tr>\n",
       "</table><br/><br/>Warnings:<br/>[1] Standard Errors are heteroscedasticity and autocorrelation robust (HAC) using 1 lags and without small sample correction"
      ],
      "text/plain": [
       "<class 'statsmodels.iolib.summary.Summary'>\n",
       "\"\"\"\n",
       "                            OLS Regression Results                            \n",
       "==============================================================================\n",
       "Dep. Variable:              Home Bias   R-squared:                       0.014\n",
       "Model:                            OLS   Adj. R-squared:                  0.009\n",
       "Method:                 Least Squares   F-statistic:                     2.852\n",
       "Date:                Tue, 13 Oct 2020   Prob (F-statistic):            0.00377\n",
       "Time:                        02:17:11   Log-Likelihood:                -1345.3\n",
       "No. Observations:                1607   AIC:                             2709.\n",
       "Df Residuals:                    1598   BIC:                             2757.\n",
       "Df Model:                           8                                         \n",
       "Covariance Type:                  HAC                                         \n",
       "======================================================================================\n",
       "                         coef    std err          z      P>|z|      [0.025      0.975]\n",
       "--------------------------------------------------------------------------------------\n",
       "const                 -0.1988      0.140     -1.424      0.154      -0.472       0.075\n",
       "Patriotism             0.0540      0.027      2.022      0.043       0.002       0.106\n",
       "Financial Literacy    -0.0043      0.049     -0.087      0.931      -0.101       0.093\n",
       "female                 0.0503      0.029      1.736      0.083      -0.007       0.107\n",
       "age                    0.0040      0.003      1.551      0.121      -0.001       0.009\n",
       "Taiwan_D               0.0629      0.119      0.530      0.596      -0.170       0.296\n",
       "China_D                0.1348      0.119      1.133      0.257      -0.098       0.368\n",
       "Vietnam_D              0.1686      0.120      1.403      0.161      -0.067       0.404\n",
       "Japan_D                0.1470      0.125      1.173      0.241      -0.099       0.393\n",
       "==============================================================================\n",
       "Omnibus:                       14.011   Durbin-Watson:                   1.993\n",
       "Prob(Omnibus):                  0.001   Jarque-Bera (JB):                9.563\n",
       "Skew:                           0.026   Prob(JB):                      0.00838\n",
       "Kurtosis:                       2.626   Cond. No.                         748.\n",
       "==============================================================================\n",
       "\n",
       "Warnings:\n",
       "[1] Standard Errors are heteroscedasticity and autocorrelation robust (HAC) using 1 lags and without small sample correction\n",
       "\"\"\""
      ]
     },
     "execution_count": 19,
     "metadata": {},
     "output_type": "execute_result"
    }
   ],
   "source": [
    "sm.OLS(dfr['Home Bias'],sm.add_constant(dfr[['Patriotism','Financial Literacy','female','age','Taiwan_D','China_D','Vietnam_D','Japan_D']]),missing='drop').fit(cov_type='HAC',cov_kwds={'maxlags':1}).summary()"
   ]
  },
  {
   "cell_type": "markdown",
   "metadata": {},
   "source": [
    "# Plots"
   ]
  },
  {
   "cell_type": "code",
   "execution_count": 20,
   "metadata": {
    "ExecuteTime": {
     "end_time": "2020-10-12T17:30:07.475186Z",
     "start_time": "2020-10-12T17:30:07.000362Z"
    }
   },
   "outputs": [
    {
     "data": {
      "text/plain": [
       "<AxesSubplot:>"
      ]
     },
     "execution_count": 20,
     "metadata": {},
     "output_type": "execute_result"
    },
    {
     "data": {
      "image/png": "[encoded data removed]",
      "text/plain": [
       "<Figure size 432x288 with 1 Axes>"
      ]
     },
     "metadata": {},
     "output_type": "display_data"
    }
   ],
   "source": [
    "dfr['XP1'].hist()"
   ]
  },
  {
   "cell_type": "code",
   "execution_count": 21,
   "metadata": {
    "ExecuteTime": {
     "end_time": "2020-10-12T17:30:07.650453Z",
     "start_time": "2020-10-12T17:30:07.610366Z"
    }
   },
   "outputs": [],
   "source": [
    "country_name = []\n",
    "country_XP1 = []\n",
    "\n",
    "for country in df['country'].unique():\n",
    "    country_name.append(country)\n",
    "    country_XP1.append(df.loc[df['country'] == country]['XP1'])"
   ]
  },
  {
   "cell_type": "code",
   "execution_count": 22,
   "metadata": {
    "ExecuteTime": {
     "end_time": "2020-10-12T17:30:08.030424Z",
     "start_time": "2020-10-12T17:30:07.996865Z"
    }
   },
   "outputs": [],
   "source": [
    "country_XP1_percentages = []\n",
    "\n",
    "for country in country_XP1:\n",
    "    \n",
    "    count_bins = np.zeros(4)\n",
    "    \n",
    "    counter = 0\n",
    "    \n",
    "    for i in country:\n",
    "        if(i.is_integer()):\n",
    "            count_bins[int(i)-1] += 1\n",
    "            counter += 1\n",
    "    \n",
    "    country_XP1_percentages.append(count_bins/counter)\n"
   ]
  },
  {
   "cell_type": "code",
   "execution_count": 143,
   "metadata": {},
   "outputs": [
    {
     "data": {
      "text/plain": [
       "[array([0.04644412, 0.21625544, 0.50362845, 0.23367199]),\n",
       " array([0.14216478, 0.33925687, 0.41518578, 0.10339257]),\n",
       " array([0.04031209, 0.1976593 , 0.31209363, 0.44993498]),\n",
       " array([0.10526316, 0.33333333, 0.33918129, 0.22222222]),\n",
       " array([0.05128205, 0.34615385, 0.41025641, 0.19230769]),\n",
       " array([0.        , 0.14285714, 0.57142857, 0.28571429]),\n",
       " array([0.18556701, 0.36941581, 0.33848797, 0.10652921])]"
      ]
     },
     "execution_count": 143,
     "metadata": {},
     "output_type": "execute_result"
    }
   ],
   "source": [
    "country_XP1_percentages"
   ]
  },
  {
   "cell_type": "code",
   "execution_count": 23,
   "metadata": {
    "ExecuteTime": {
     "end_time": "2020-10-12T17:30:08.470158Z",
     "start_time": "2020-10-12T17:30:08.397507Z"
    }
   },
   "outputs": [],
   "source": [
    "def plot_Choices_countries(data, country_labels, choices):\n",
    "\n",
    "\n",
    "    xAxis = np.arange(choices[0]-0.4,choices[1]+0.6,1.0)\n",
    "\n",
    "    fig = plt.figure()\n",
    "    ax = fig.add_axes([0,0,1,1])\n",
    "\n",
    "    rows = len(data)\n",
    "\n",
    "    for i in range(0,rows):\n",
    "        ax.bar(xAxis+((0.8/rows)*i),data[i], width= (0.8/rows))\n",
    "\n",
    "    ax.set_ylabel('Percentage')\n",
    "    ax.set_xlabel('Choice Selected')\n",
    "    ax.set_xticks(np.arange(choices[0],choices[1]+1))\n",
    "    ax.set_yticks(np.arange(0,data.max()+0.1,0.1))\n",
    "    ax.legend(labels=country_labels)\n",
    "    plt.show()"
   ]
  },
  {
   "cell_type": "code",
   "execution_count": 24,
   "metadata": {
    "ExecuteTime": {
     "end_time": "2020-10-12T17:30:08.930226Z",
     "start_time": "2020-10-12T17:30:08.750424Z"
    }
   },
   "outputs": [
    {
     "data": {
      "image/png": "[encoded data removed]",
      "text/plain": [
       "<Figure size 432x288 with 1 Axes>"
      ]
     },
     "metadata": {},
     "output_type": "display_data"
    }
   ],
   "source": [
    "# Distribution of the patriotism variable in each country - professor comment during presentation\n",
    "#Plot for this below\n",
    "\n",
    "# Perhaps add black bars around each bar - B\n",
    "plot_Choices_countries(np.array(country_XP1_percentages),country_name,[1,4])"
   ]
  },
  {
   "cell_type": "code",
   "execution_count": 161,
   "metadata": {},
   "outputs": [],
   "source": [
    "countries_print_nan = countries_nan\n",
    "countries_print_nan[-1] = 'Japan'\n",
    "countries_print_nan[-2] = 'Vietnam'"
   ]
  },
  {
   "cell_type": "code",
   "execution_count": 163,
   "metadata": {},
   "outputs": [
    {
     "data": {
      "text/plain": [
       "array(['China', 'Estonia', 'Germany', 'Hong Kong', 'Taiwan', 'Vietnam',\n",
       "       'Japan'], dtype=object)"
      ]
     },
     "execution_count": 163,
     "metadata": {},
     "output_type": "execute_result"
    }
   ],
   "source": [
    "countries_print_nan"
   ]
  },
  {
   "cell_type": "code",
   "execution_count": 183,
   "metadata": {
    "ExecuteTime": {
     "end_time": "2020-10-12T17:30:09.890352Z",
     "start_time": "2020-10-12T17:30:09.240190Z"
    }
   },
   "outputs": [
    {
     "data": {
      "image/png": "[encoded data removed]",
      "text/plain": [
       "<Figure size 504x360 with 1 Axes>"
      ]
     },
     "metadata": {},
     "output_type": "display_data"
    },
    {
     "data": {
      "image/png": "[encoded data removed]",
      "text/plain": [
       "<Figure size 504x360 with 1 Axes>"
      ]
     },
     "metadata": {},
     "output_type": "display_data"
    },
    {
     "data": {
      "image/png": "[encoded data removed]",
      "text/plain": [
       "<Figure size 504x360 with 1 Axes>"
      ]
     },
     "metadata": {},
     "output_type": "display_data"
    },
    {
     "data": {
      "image/png": "[encoded data removed]",
      "text/plain": [
       "<Figure size 504x360 with 1 Axes>"
      ]
     },
     "metadata": {},
     "output_type": "display_data"
    },
    {
     "data": {
      "image/png": "[encoded data removed]",
      "text/plain": [
       "<Figure size 504x360 with 1 Axes>"
      ]
     },
     "metadata": {},
     "output_type": "display_data"
    },
    {
     "data": {
      "image/png": "[encoded data removed]",
      "text/plain": [
       "<Figure size 504x360 with 1 Axes>"
      ]
     },
     "metadata": {},
     "output_type": "display_data"
    },
    {
     "data": {
      "image/png": "[encoded data removed]",
      "text/plain": [
       "<Figure size 504x360 with 1 Axes>"
      ]
     },
     "metadata": {},
     "output_type": "display_data"
    }
   ],
   "source": [
    "countries_nan = df['country'].unique()\n",
    "\n",
    "countries_nan.sort()\n",
    "\n",
    "for i in range(0,len(countries_nan)):\n",
    "    \n",
    "    country = countries_nan[i]\n",
    "    \n",
    "    country_data = df.loc[df['country'] == country]\n",
    "    nan_count = len(np.where(country_data['XFD8'].isnull())[0])\n",
    "    resp_sum = len(country_data['XFD8'])\n",
    "    \n",
    "    #print(country,\" has \"+str(nan_count)+\" nan values with \"+str(resp_sum)+\" respondents, so a \"+str(round(nan_count/resp_sum,2))+\" percentage of nan values\")\n",
    "    \n",
    "    # Data to plot\n",
    "    labels = ['Nan ('+str(nan_count)+\")\",'Answered ('+str(resp_sum - nan_count)+\")\"]\n",
    "    sizes = [nan_count, resp_sum]\n",
    "    colors = ['lightcoral', 'lightskyblue']\n",
    "\n",
    "    # Plot\n",
    "    \n",
    "    plt.figure(figsize=(7,5))\n",
    "    \n",
    "    plt.title(countries_print_nan[i]+\" (\"+str(resp_sum)+\" respondents)\")\n",
    "    plt.pie(sizes, labels=labels, colors=colors,\n",
    "    autopct='%1.1f%%', shadow=True, startangle=90, labeldistance=None)\n",
    "    plt.legend()\n",
    "\n",
    "    plt.axis('equal')\n",
    "    plt.show()"
   ]
  },
  {
   "cell_type": "code",
   "execution_count": null,
   "metadata": {},
   "outputs": [],
   "source": []
  },
  {
   "cell_type": "code",
   "execution_count": 26,
   "metadata": {
    "ExecuteTime": {
     "end_time": "2020-10-12T17:30:10.570553Z",
     "start_time": "2020-10-12T17:30:10.551519Z"
    }
   },
   "outputs": [],
   "source": [
    "#TODO\n",
    "# Female / Male per country"
   ]
  },
  {
   "cell_type": "markdown",
   "metadata": {},
   "source": [
    "### Selecting IDs based on country"
   ]
  },
  {
   "cell_type": "code",
   "execution_count": 49,
   "metadata": {},
   "outputs": [],
   "source": [
    "countries = dfr['country'].unique()\n",
    "countries.sort()"
   ]
  },
  {
   "cell_type": "code",
   "execution_count": 50,
   "metadata": {},
   "outputs": [],
   "source": [
    "country_IDs = []\n",
    "\n",
    "for country in countries:\n",
    "    country_IDs.append(np.where(dfr['country'] == country))"
   ]
  },
  {
   "cell_type": "code",
   "execution_count": 128,
   "metadata": {},
   "outputs": [],
   "source": [
    "countries_print = countries\n",
    "countries_print[-2] = 'Vietnam'\n",
    "countries_print[-1] = 'Japan'"
   ]
  },
  {
   "cell_type": "code",
   "execution_count": 129,
   "metadata": {},
   "outputs": [
    {
     "data": {
      "text/plain": [
       "array(['China', 'Estonia', 'Germany', 'Hong Kong', 'Taiwan', 'Vietnam',\n",
       "       'Japan'], dtype=object)"
      ]
     },
     "execution_count": 129,
     "metadata": {},
     "output_type": "execute_result"
    }
   ],
   "source": [
    "countries_print"
   ]
  },
  {
   "cell_type": "code",
   "execution_count": 77,
   "metadata": {},
   "outputs": [
    {
     "data": {
      "text/plain": [
       "array([123.33])"
      ]
     },
     "execution_count": 77,
     "metadata": {},
     "output_type": "execute_result"
    }
   ],
   "source": [
    "np.round([123.33],2)"
   ]
  },
  {
   "cell_type": "markdown",
   "metadata": {},
   "source": [
    "### Patriotism per country"
   ]
  },
  {
   "cell_type": "code",
   "execution_count": 147,
   "metadata": {
    "ExecuteTime": {
     "end_time": "2020-10-12T20:16:53.782215Z",
     "start_time": "2020-10-12T20:16:53.747235Z"
    }
   },
   "outputs": [],
   "source": [
    "table_patriotism_per_country = []\n",
    "\n",
    "for i in range(0,len(countries)):\n",
    "\n",
    "    patr_country = dfr.iloc[country_IDs[i]]['Patriotism']\n",
    "\n",
    "    output = [np.quantile(patr_country,0.05),\n",
    "              np.quantile(patr_country,0.25),\n",
    "              np.quantile(patr_country,0.5),\n",
    "              np.quantile(patr_country,0.75),\n",
    "              np.quantile(patr_country,0.95)]\n",
    "    \n",
    "    output = [countries_print[i]] + [round(x,2) for x in output]\n",
    "    \n",
    "    table_patriotism_per_country.append(output)\n"
   ]
  },
  {
   "cell_type": "code",
   "execution_count": 148,
   "metadata": {},
   "outputs": [
    {
     "data": {
      "text/plain": [
       "[['China', -1.0, -0.33, -0.33, 0.33, 1.0],\n",
       " ['Estonia', -1.0, -0.33, -0.33, 0.33, 0.97],\n",
       " ['Germany', -1.0, -1.0, -0.33, -0.33, 0.33],\n",
       " ['Hong Kong', -1.0, -1.0, -0.33, -0.33, -0.03],\n",
       " ['Japan', -1.0, -0.33, -0.33, 0.33, 0.33],\n",
       " ['Taiwan', -1.0, -0.33, 0.33, 0.33, 1.0],\n",
       " ['Vietnam', -1.0, -0.33, -0.33, 0.33, 1.0]]"
      ]
     },
     "execution_count": 148,
     "metadata": {},
     "output_type": "execute_result"
    }
   ],
   "source": [
    "table_patriotism_per_country"
   ]
  },
  {
   "cell_type": "code",
   "execution_count": 122,
   "metadata": {},
   "outputs": [],
   "source": [
    "patriotism_header = [\"Country\", \"5%\", \"25%\", \"50%\",\"75%\",\"95%\"]\n"
   ]
  },
  {
   "cell_type": "code",
   "execution_count": 133,
   "metadata": {},
   "outputs": [],
   "source": [
    "tabulate?"
   ]
  },
  {
   "cell_type": "code",
   "execution_count": 132,
   "metadata": {},
   "outputs": [
    {
     "name": "stdout",
     "output_type": "stream",
     "text": [
      "\\begin{tabular}{lrrrrr}\n",
      "\\hline\n",
      " Country   &   5\\% &   25\\% &   50\\% &   75\\% &   95\\% \\\\\n",
      "\\hline\n",
      " China     &   -1 & -0.33 & -0.33 &  0.33 &  1    \\\\\n",
      " Estonia   &   -1 & -0.33 & -0.33 &  0.33 &  0.97 \\\\\n",
      " Germany   &   -1 & -1    & -0.33 & -0.33 &  0.33 \\\\\n",
      " Hong Kong &   -1 & -1    & -0.33 & -0.33 & -0.03 \\\\\n",
      " Taiwan    &   -1 & -0.33 & -0.33 &  0.33 &  0.33 \\\\\n",
      " Vietnam   &   -1 & -0.33 &  0.33 &  0.33 &  1    \\\\\n",
      " Japan     &   -1 & -0.33 & -0.33 &  0.33 &  1    \\\\\n",
      "\\hline\n",
      "\\end{tabular}\n"
     ]
    }
   ],
   "source": [
    "print(tabulate(table_patriotism_per_country,patriotism_header,tablefmt=\"latex\"))"
   ]
  },
  {
   "cell_type": "markdown",
   "metadata": {},
   "source": [
    "### Home bias per country"
   ]
  },
  {
   "cell_type": "code",
   "execution_count": 28,
   "metadata": {
    "ExecuteTime": {
     "end_time": "2020-10-12T20:19:42.443348Z",
     "start_time": "2020-10-12T20:19:42.437352Z"
    }
   },
   "outputs": [
    {
     "data": {
      "text/plain": [
       "39.0"
      ]
     },
     "execution_count": 28,
     "metadata": {},
     "output_type": "execute_result"
    }
   ],
   "source": [
    "np.quantile(dfr['age'],0.95)"
   ]
  },
  {
   "cell_type": "code",
   "execution_count": 29,
   "metadata": {
    "ExecuteTime": {
     "end_time": "2020-10-12T20:19:37.872397Z",
     "start_time": "2020-10-12T20:19:37.866402Z"
    }
   },
   "outputs": [
    {
     "data": {
      "text/plain": [
       "17.0"
      ]
     },
     "execution_count": 29,
     "metadata": {},
     "output_type": "execute_result"
    }
   ],
   "source": [
    "dfr['age'].min()"
   ]
  },
  {
   "cell_type": "markdown",
   "metadata": {},
   "source": [
    "### Nan values per country"
   ]
  },
  {
   "cell_type": "code",
   "execution_count": 30,
   "metadata": {
    "ExecuteTime": {
     "end_time": "2020-10-12T20:30:21.259160Z",
     "start_time": "2020-10-12T20:30:21.254163Z"
    }
   },
   "outputs": [],
   "source": [
    "table = [[\"country 1\",100],[\"country 2\",200]]"
   ]
  },
  {
   "cell_type": "code",
   "execution_count": 31,
   "metadata": {
    "ExecuteTime": {
     "end_time": "2020-10-12T20:36:52.314261Z",
     "start_time": "2020-10-12T20:36:52.311263Z"
    }
   },
   "outputs": [
    {
     "name": "stdout",
     "output_type": "stream",
     "text": [
      "\\begin{tabular}{lr}\n",
      "\\hline\n",
      " a         &   b \\\\\n",
      "\\hline\n",
      " country 1 & 100 \\\\\n",
      " country 2 & 200 \\\\\n",
      "\\hline\n",
      "\\end{tabular}\n"
     ]
    }
   ],
   "source": [
    "print(tabulate(table,[\"a\",\"b\"],tablefmt=\"latex\"))"
   ]
  },
  {
   "cell_type": "code",
   "execution_count": null,
   "metadata": {},
   "outputs": [],
   "source": []
  },
  {
   "cell_type": "markdown",
   "metadata": {},
   "source": [
    "### Reponses per country"
   ]
  },
  {
   "cell_type": "code",
   "execution_count": 33,
   "metadata": {},
   "outputs": [],
   "source": [
    "countries = dfr['country'].unique()"
   ]
  },
  {
   "cell_type": "code",
   "execution_count": 135,
   "metadata": {},
   "outputs": [
    {
     "data": {
      "text/plain": [
       "Index(['country', 'job', 'parent', 'uni_degree', 'patient', 'XF1', 'XF2',\n",
       "       'XF3', 'female', 'age', 'Estonia_D', 'Taiwan_D', 'China_D', 'Vietnam_D',\n",
       "       'Germany_D', 'Japan_D', 'XP1', 'XFD8', 'XFD9', 'homebias', 'Home Bias',\n",
       "       'Patriotism', 'Financial Literacy', 'CAPM', 'Home Bias 2'],\n",
       "      dtype='object')"
      ]
     },
     "execution_count": 135,
     "metadata": {},
     "output_type": "execute_result"
    }
   ],
   "source": [
    "dfr.columns"
   ]
  },
  {
   "cell_type": "code",
   "execution_count": 140,
   "metadata": {},
   "outputs": [],
   "source": [
    "countries.sort()"
   ]
  },
  {
   "cell_type": "code",
   "execution_count": 142,
   "metadata": {},
   "outputs": [
    {
     "data": {
      "text/plain": [
       "array(['China', 'Estonia', 'Germany', 'Hong Kong', 'Japan', 'Taiwan',\n",
       "       'Vietnam'], dtype=object)"
      ]
     },
     "execution_count": 142,
     "metadata": {},
     "output_type": "execute_result"
    }
   ],
   "source": [
    "countries_"
   ]
  },
  {
   "cell_type": "code",
   "execution_count": null,
   "metadata": {},
   "outputs": [],
   "source": []
  }
 ],
 "metadata": {
  "kernelspec": {
   "display_name": "Python 3",
   "language": "python",
   "name": "python3"
  },
  "language_info": {
   "codemirror_mode": {
    "name": "ipython",
    "version": 3
   },
   "file_extension": ".py",
   "mimetype": "text/x-python",
   "name": "python",
   "nbconvert_exporter": "python",
   "pygments_lexer": "ipython3",
   "version": "3.7.9"
  }
 },
 "nbformat": 4,
 "nbformat_minor": 4
}
